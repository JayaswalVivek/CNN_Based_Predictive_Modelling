{
 "cells": [
  {
   "cell_type": "markdown",
   "metadata": {},
   "source": [
    "### Zindi Computer Vision Challenge\n",
    "Functions and Classes for Data Preprocessing and Analysis"
   ]
  },
  {
   "cell_type": "code",
   "execution_count": null,
   "metadata": {},
   "outputs": [],
   "source": [
    "def obtain_hist_bins(in_array, in_bins):\n",
    "    flatten_array = in_array.flatten()\n",
    "    hist, bin_edges = np.histogram(flatten_array, in_bins)\n",
    "    return bin_edges"
   ]
  },
  {
   "cell_type": "code",
   "execution_count": null,
   "metadata": {},
   "outputs": [],
   "source": [
    "def generate_2d_matrix(in_array, in_bins, num_bins):\n",
    "    \n",
    "    out_matrix = np.zeros((num_bins, 12))\n",
    "    for i in range(12):\n",
    "        out_matrix[:, i] = np.histogram(in_array[i].flatten(), in_bins)[0]\n",
    "        \n",
    "    # Scale based on the total number of observations in the bin x time matrix\n",
    "    out_matrix = out_matrix/np.max([1.0, out_matrix.sum()])\n",
    "    \n",
    "    return out_matrix"
   ]
  },
  {
   "cell_type": "code",
   "execution_count": null,
   "metadata": {},
   "outputs": [],
   "source": [
    "def generate_3d_matrix(in_channel_set, in_idx_per_channel, in_channel_bins, in_sample):\n",
    "    \n",
    "    temp_array = np.load(in_sample)\n",
    "    num_channels = len(in_channel_set)\n",
    "    num_bins = in_channel_bins.shape[0] -1\n",
    "     \n",
    "    out_matrix = np.zeros((num_channels, num_bins, 12))\n",
    "    \n",
    "    for channel_idx in range(num_channels):\n",
    "        actual_channel = in_channel_set[channel_idx]\n",
    "        actual_idx = in_idx_per_channel[actual_channel]\n",
    "        out_matrix[channel_idx, :, :] = generate_2d_matrix(temp_array[actual_idx], in_channel_bins[:, channel_idx]\n",
    "                                                           , num_bins)\n",
    "                \n",
    "    return out_matrix"
   ]
  },
  {
   "cell_type": "code",
   "execution_count": null,
   "metadata": {},
   "outputs": [],
   "source": [
    "# Create a custom DataSet class\n",
    "class ZindiDataset(torch.utils.data.Dataset):\n",
    "    def __init__(self, x, y):\n",
    "        super(ZindiDataset, self).__init__()\n",
    "        assert x.shape[0] == y.shape[0] # assuming shape[0] = dataset size\n",
    "        self.x = x\n",
    "        self.y = y\n",
    "\n",
    "\n",
    "    def __len__(self):\n",
    "        return self.y.shape[0]\n",
    "\n",
    "    def __getitem__(self, index):\n",
    "        return self.x[index], self.y[index]"
   ]
  }
 ],
 "metadata": {
  "kernelspec": {
   "display_name": "Python 3",
   "language": "python",
   "name": "python3"
  },
  "language_info": {
   "codemirror_mode": {
    "name": "ipython",
    "version": 3
   },
   "file_extension": ".py",
   "mimetype": "text/x-python",
   "name": "python",
   "nbconvert_exporter": "python",
   "pygments_lexer": "ipython3",
   "version": "3.7.3"
  }
 },
 "nbformat": 4,
 "nbformat_minor": 4
}
