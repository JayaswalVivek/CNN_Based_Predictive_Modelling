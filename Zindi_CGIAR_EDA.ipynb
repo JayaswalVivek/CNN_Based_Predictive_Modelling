{
 "cells": [
  {
   "cell_type": "markdown",
   "metadata": {},
   "source": [
    "### Exploratory Data Analysis for Zindi's CGIAR Data Set\n",
    "Author: Vivek Jayaswal \\\n",
    "Date: 16-Dec-2020"
   ]
  },
  {
   "cell_type": "code",
   "execution_count": 1,
   "metadata": {},
   "outputs": [],
   "source": [
    "import numpy as np\n",
    "import pandas as pd\n",
    "import torch\n",
    "import os\n",
    "import re\n",
    "from matplotlib import pyplot as plt\n",
    "from sklearn.preprocessing import MinMaxScaler"
   ]
  },
  {
   "cell_type": "code",
   "execution_count": 2,
   "metadata": {},
   "outputs": [],
   "source": [
    "# Load custom functions\n",
    "%run Zindi_CGIAR_Functions.ipynb"
   ]
  },
  {
   "cell_type": "code",
   "execution_count": 3,
   "metadata": {},
   "outputs": [],
   "source": [
    "# Read the CSV file for training data set\n",
    "in_dir = 'C:/Work/Vivek_Work/Challenge_Data_Sets/Zindi/CGIAR/{}'\n",
    "trng_dir = 'C:/Work/Vivek_Work/Challenge_Data_Sets/Zindi/CGIAR/image_arrays_train/{}.npy'\n",
    "test_dir = 'C:/Work/Vivek_Work/Challenge_Data_Sets/Zindi/CGIAR/image_arrays_test/{}.npy'\n",
    "\n",
    "trng_data_annot = pd.read_csv(in_dir.format('Train.csv'))"
   ]
  },
  {
   "cell_type": "code",
   "execution_count": 4,
   "metadata": {},
   "outputs": [
    {
     "data": {
      "text/html": [
       "<div>\n",
       "<style scoped>\n",
       "    .dataframe tbody tr th:only-of-type {\n",
       "        vertical-align: middle;\n",
       "    }\n",
       "\n",
       "    .dataframe tbody tr th {\n",
       "        vertical-align: top;\n",
       "    }\n",
       "\n",
       "    .dataframe thead th {\n",
       "        text-align: right;\n",
       "    }\n",
       "</style>\n",
       "<table border=\"1\" class=\"dataframe\">\n",
       "  <thead>\n",
       "    <tr style=\"text-align: right;\">\n",
       "      <th></th>\n",
       "      <th>Field_ID</th>\n",
       "      <th>Year</th>\n",
       "      <th>Quality</th>\n",
       "      <th>Yield</th>\n",
       "    </tr>\n",
       "  </thead>\n",
       "  <tbody>\n",
       "    <tr>\n",
       "      <th>0</th>\n",
       "      <td>MH2O0YH</td>\n",
       "      <td>2019</td>\n",
       "      <td>3</td>\n",
       "      <td>3.686</td>\n",
       "    </tr>\n",
       "    <tr>\n",
       "      <th>1</th>\n",
       "      <td>O9TURWL</td>\n",
       "      <td>2019</td>\n",
       "      <td>2</td>\n",
       "      <td>5.657</td>\n",
       "    </tr>\n",
       "    <tr>\n",
       "      <th>2</th>\n",
       "      <td>35AFSDD</td>\n",
       "      <td>2019</td>\n",
       "      <td>3</td>\n",
       "      <td>3.082</td>\n",
       "    </tr>\n",
       "    <tr>\n",
       "      <th>3</th>\n",
       "      <td>PM05EG9</td>\n",
       "      <td>2019</td>\n",
       "      <td>2</td>\n",
       "      <td>2.707</td>\n",
       "    </tr>\n",
       "    <tr>\n",
       "      <th>4</th>\n",
       "      <td>V7PZBCG</td>\n",
       "      <td>2019</td>\n",
       "      <td>2</td>\n",
       "      <td>2.679</td>\n",
       "    </tr>\n",
       "  </tbody>\n",
       "</table>\n",
       "</div>"
      ],
      "text/plain": [
       "  Field_ID  Year  Quality  Yield\n",
       "0  MH2O0YH  2019        3  3.686\n",
       "1  O9TURWL  2019        2  5.657\n",
       "2  35AFSDD  2019        3  3.082\n",
       "3  PM05EG9  2019        2  2.707\n",
       "4  V7PZBCG  2019        2  2.679"
      ]
     },
     "execution_count": 4,
     "metadata": {},
     "output_type": "execute_result"
    }
   ],
   "source": [
    "trng_data_annot.head()"
   ]
  },
  {
   "cell_type": "code",
   "execution_count": 5,
   "metadata": {},
   "outputs": [
    {
     "data": {
      "text/plain": [
       "(2977, 4)"
      ]
     },
     "execution_count": 5,
     "metadata": {},
     "output_type": "execute_result"
    }
   ],
   "source": [
    "trng_data_annot.shape"
   ]
  },
  {
   "cell_type": "code",
   "execution_count": 6,
   "metadata": {},
   "outputs": [
    {
     "data": {
      "text/plain": [
       "(array([1, 2, 3], dtype=int64), array([ 425, 1231, 1321], dtype=int64))"
      ]
     },
     "execution_count": 6,
     "metadata": {},
     "output_type": "execute_result"
    }
   ],
   "source": [
    "# Obtain the number of observations for each quality type\n",
    "# 3=Good\n",
    "np.unique(trng_data_annot['Quality'], return_counts=True)"
   ]
  },
  {
   "cell_type": "code",
   "execution_count": 7,
   "metadata": {},
   "outputs": [],
   "source": [
    "# Randomly select 10 field IDs\n",
    "random_sample = trng_data_annot['Field_ID'].sample(n=10, random_state=10)"
   ]
  },
  {
   "cell_type": "code",
   "execution_count": 8,
   "metadata": {},
   "outputs": [
    {
     "data": {
      "text/plain": [
       "array(['DLY798K', 'KEB8GES', 'FS2TLI7', 'MH5Q1CG', '0Z6V2UB', 'GE5WDO3',\n",
       "       '98HJXLM', '2A0PLRE', 'D4EUDD4', 'N5UPTD3'], dtype=object)"
      ]
     },
     "execution_count": 8,
     "metadata": {},
     "output_type": "execute_result"
    }
   ],
   "source": [
    "random_sample.values"
   ]
  },
  {
   "cell_type": "markdown",
   "metadata": {},
   "source": [
    "### Display the RGB image for a random sample using imshow"
   ]
  },
  {
   "cell_type": "code",
   "execution_count": 9,
   "metadata": {},
   "outputs": [],
   "source": [
    "current_arr = random_sample.values[0]\n",
    "sample_array_1 = np.load(trng_dir.format(current_arr))"
   ]
  },
  {
   "cell_type": "code",
   "execution_count": 10,
   "metadata": {},
   "outputs": [
    {
     "data": {
      "text/plain": [
       "(360, 41, 41)"
      ]
     },
     "execution_count": 10,
     "metadata": {},
     "output_type": "execute_result"
    }
   ],
   "source": [
    "sample_array_1.shape"
   ]
  },
  {
   "cell_type": "code",
   "execution_count": 11,
   "metadata": {},
   "outputs": [
    {
     "name": "stdout",
     "output_type": "stream",
     "text": [
      "int32\n"
     ]
    },
    {
     "data": {
      "text/plain": [
       "dtype('float64')"
      ]
     },
     "execution_count": 11,
     "metadata": {},
     "output_type": "execute_result"
    }
   ],
   "source": [
    "# Temporary code to change array type from integer to float using division by a floating point number\n",
    "temp = np.array([1, 2, 3])\n",
    "print(temp.dtype)\n",
    "\n",
    "temp = np.array([1, 2, 3])/1.0\n",
    "temp.dtype"
   ]
  },
  {
   "cell_type": "code",
   "execution_count": 12,
   "metadata": {},
   "outputs": [
    {
     "data": {
      "text/plain": [
       "(41, 41, 3)"
      ]
     },
     "execution_count": 12,
     "metadata": {},
     "output_type": "execute_result"
    }
   ],
   "source": [
    "rgb_arr = np.stack((sample_array_1[1], sample_array_1[2], sample_array_1[3]), axis=-1)\n",
    "rgb_arr.shape"
   ]
  },
  {
   "cell_type": "code",
   "execution_count": 13,
   "metadata": {},
   "outputs": [
    {
     "data": {
      "text/plain": [
       "dtype('float32')"
      ]
     },
     "execution_count": 13,
     "metadata": {},
     "output_type": "execute_result"
    }
   ],
   "source": [
    "# Change data type to floating point\n",
    "rgb_arr = rgb_arr.astype(np.float32)\n",
    "rgb_arr.dtype"
   ]
  },
  {
   "cell_type": "code",
   "execution_count": 14,
   "metadata": {},
   "outputs": [],
   "source": [
    "# Scale each channel into values between 0 and 1\n",
    "scaler = MinMaxScaler()\n",
    "for i in range(3):\n",
    "    rgb_arr[:, :, i] = scaler.fit_transform(rgb_arr[:, :, i])"
   ]
  },
  {
   "cell_type": "code",
   "execution_count": 15,
   "metadata": {},
   "outputs": [
    {
     "name": "stdout",
     "output_type": "stream",
     "text": [
      "0.0\n"
     ]
    },
    {
     "data": {
      "text/plain": [
       "1.0000005"
      ]
     },
     "execution_count": 15,
     "metadata": {},
     "output_type": "execute_result"
    }
   ],
   "source": [
    "print(rgb_arr.min())\n",
    "rgb_arr.max()"
   ]
  },
  {
   "cell_type": "code",
   "execution_count": 16,
   "metadata": {},
   "outputs": [
    {
     "name": "stderr",
     "output_type": "stream",
     "text": [
      "Clipping input data to the valid range for imshow with RGB data ([0..1] for floats or [0..255] for integers).\n"
     ]
    },
    {
     "data": {
      "text/plain": [
       "<matplotlib.image.AxesImage at 0x1cc8925b240>"
      ]
     },
     "execution_count": 16,
     "metadata": {},
     "output_type": "execute_result"
    },
    {
     "data": {
      "image/png": "[encoded data removed]",
      "text/plain": [
       "<Figure size 432x288 with 1 Axes>"
      ]
     },
     "metadata": {
      "needs_background": "light"
     },
     "output_type": "display_data"
    }
   ],
   "source": [
    "plt.imshow(rgb_arr)"
   ]
  },
  {
   "cell_type": "markdown",
   "metadata": {},
   "source": [
    "### Obtain histograms for each channel"
   ]
  },
  {
   "cell_type": "code",
   "execution_count": 17,
   "metadata": {},
   "outputs": [
    {
     "data": {
      "text/plain": [
       "[[0, 30, 60, 90, 120, 150, 180, 210, 240, 270, 300, 330],\n",
       " [1, 31, 61, 91, 121, 151, 181, 211, 241, 271, 301, 331],\n",
       " [2, 32, 62, 92, 122, 152, 182, 212, 242, 272, 302, 332],\n",
       " [3, 33, 63, 93, 123, 153, 183, 213, 243, 273, 303, 333],\n",
       " [4, 34, 64, 94, 124, 154, 184, 214, 244, 274, 304, 334],\n",
       " [5, 35, 65, 95, 125, 155, 185, 215, 245, 275, 305, 335],\n",
       " [6, 36, 66, 96, 126, 156, 186, 216, 246, 276, 306, 336],\n",
       " [7, 37, 67, 97, 127, 157, 187, 217, 247, 277, 307, 337],\n",
       " [8, 38, 68, 98, 128, 158, 188, 218, 248, 278, 308, 338],\n",
       " [9, 39, 69, 99, 129, 159, 189, 219, 249, 279, 309, 339],\n",
       " [10, 40, 70, 100, 130, 160, 190, 220, 250, 280, 310, 340],\n",
       " [11, 41, 71, 101, 131, 161, 191, 221, 251, 281, 311, 341],\n",
       " [12, 42, 72, 102, 132, 162, 192, 222, 252, 282, 312, 342],\n",
       " [13, 43, 73, 103, 133, 163, 193, 223, 253, 283, 313, 343],\n",
       " [14, 44, 74, 104, 134, 164, 194, 224, 254, 284, 314, 344],\n",
       " [15, 45, 75, 105, 135, 165, 195, 225, 255, 285, 315, 345],\n",
       " [16, 46, 76, 106, 136, 166, 196, 226, 256, 286, 316, 346],\n",
       " [17, 47, 77, 107, 137, 167, 197, 227, 257, 287, 317, 347],\n",
       " [18, 48, 78, 108, 138, 168, 198, 228, 258, 288, 318, 348],\n",
       " [19, 49, 79, 109, 139, 169, 199, 229, 259, 289, 319, 349],\n",
       " [20, 50, 80, 110, 140, 170, 200, 230, 260, 290, 320, 350],\n",
       " [21, 51, 81, 111, 141, 171, 201, 231, 261, 291, 321, 351],\n",
       " [22, 52, 82, 112, 142, 172, 202, 232, 262, 292, 322, 352],\n",
       " [23, 53, 83, 113, 143, 173, 203, 233, 263, 293, 323, 353],\n",
       " [24, 54, 84, 114, 144, 174, 204, 234, 264, 294, 324, 354],\n",
       " [25, 55, 85, 115, 145, 175, 205, 235, 265, 295, 325, 355],\n",
       " [26, 56, 86, 116, 146, 176, 206, 236, 266, 296, 326, 356],\n",
       " [27, 57, 87, 117, 147, 177, 207, 237, 267, 297, 327, 357],\n",
       " [28, 58, 88, 118, 148, 178, 208, 238, 268, 298, 328, 358],\n",
       " [29, 59, 89, 119, 149, 179, 209, 239, 269, 299, 329, 359]]"
      ]
     },
     "execution_count": 17,
     "metadata": {},
     "output_type": "execute_result"
    }
   ],
   "source": [
    "# Obtain the indexes per channel\n",
    "# 30 channels per month\n",
    "idx_per_channel = [list(range(i, 360, 30)) for i in range(30)]\n",
    "idx_per_channel"
   ]
  },
  {
   "cell_type": "code",
   "execution_count": 18,
   "metadata": {},
   "outputs": [
    {
     "data": {
      "text/plain": [
       "(12, 41, 41)"
      ]
     },
     "execution_count": 18,
     "metadata": {},
     "output_type": "execute_result"
    }
   ],
   "source": [
    "# Extract a subset by specifying the first dimension\n",
    "temp_array = np.load(trng_dir.format(random_sample.values[0]))\n",
    "zz = temp_array[idx_per_channel[2]]\n",
    "zz.shape"
   ]
  },
  {
   "cell_type": "code",
   "execution_count": 19,
   "metadata": {},
   "outputs": [
    {
     "data": {
      "text/plain": [
       "True"
      ]
     },
     "execution_count": 19,
     "metadata": {},
     "output_type": "execute_result"
    }
   ],
   "source": [
    "# Check that array slice is the same as expected\n",
    "np.all(temp_array[2, :, :] == zz[0, :, :])"
   ]
  },
  {
   "cell_type": "code",
   "execution_count": 20,
   "metadata": {},
   "outputs": [
    {
     "data": {
      "text/plain": [
       "(20172,)"
      ]
     },
     "execution_count": 20,
     "metadata": {},
     "output_type": "execute_result"
    }
   ],
   "source": [
    "zz_flatten = zz.flatten()\n",
    "zz_flatten.shape"
   ]
  },
  {
   "cell_type": "code",
   "execution_count": 21,
   "metadata": {},
   "outputs": [],
   "source": [
    "hist, bin_edges = np.histogram(zz_flatten, 10)"
   ]
  },
  {
   "cell_type": "code",
   "execution_count": 22,
   "metadata": {},
   "outputs": [],
   "source": [
    "# Counts per bin\n",
    "# hist"
   ]
  },
  {
   "cell_type": "code",
   "execution_count": 23,
   "metadata": {},
   "outputs": [
    {
     "data": {
      "text/plain": [
       "array([  577. ,  1532.2,  2487.4,  3442.6,  4397.8,  5353. ,  6308.2,\n",
       "        7263.4,  8218.6,  9173.8, 10129. ])"
      ]
     },
     "execution_count": 23,
     "metadata": {},
     "output_type": "execute_result"
    }
   ],
   "source": [
    "# Bin boundaries - 1 more than the number of edges\n",
    "bin_edges"
   ]
  },
  {
   "cell_type": "markdown",
   "metadata": {},
   "source": [
    "Obtain the histograms per channel using 10 randomly selected samples"
   ]
  },
  {
   "cell_type": "code",
   "execution_count": 24,
   "metadata": {},
   "outputs": [],
   "source": [
    "channel_set = list(set(range(30)) - set([13, 14, 15])) # Remove the QC channels {14, 15, 16}\n",
    "# Remove channel 22 (0-index) from this set, if required\n",
    "\n",
    "num_bins = 20\n",
    "num_channels = len(channel_set)\n",
    "channel_bins = np.zeros((num_bins+1, num_channels))\n",
    "\n",
    "for channel_idx in range(num_channels):\n",
    "    \n",
    "    actual_channel = channel_set[channel_idx]\n",
    "    actual_idx = idx_per_channel[actual_channel]\n",
    "    \n",
    "    for sample_idx in random_sample:\n",
    "        temp_array = np.load(trng_dir.format(sample_idx))    \n",
    "        channel_bins[:, channel_idx] += obtain_hist_bins(temp_array[actual_idx], num_bins)\n",
    "        \n",
    "# Obtain the average value for bin edges per channel\n",
    "channel_bins = channel_bins/len(random_sample)"
   ]
  },
  {
   "cell_type": "code",
   "execution_count": 25,
   "metadata": {},
   "outputs": [
    {
     "name": "stdout",
     "output_type": "stream",
     "text": [
      "Counter =  0\n",
      "Counter =  100\n",
      "Counter =  200\n",
      "Counter =  300\n",
      "Counter =  400\n",
      "Counter =  500\n",
      "Counter =  600\n",
      "Counter =  700\n",
      "Counter =  800\n",
      "Counter =  900\n",
      "Counter =  1000\n",
      "Counter =  1100\n",
      "Counter =  1200\n",
      "Counter =  1300\n",
      "Counter =  1400\n",
      "Counter =  1500\n",
      "Counter =  1600\n",
      "Counter =  1700\n",
      "Counter =  1800\n",
      "Counter =  1900\n",
      "Counter =  2000\n",
      "Counter =  2100\n",
      "Counter =  2200\n",
      "Counter =  2300\n",
      "Counter =  2400\n",
      "Counter =  2500\n",
      "Counter =  2600\n",
      "Counter =  2700\n",
      "Counter =  2800\n",
      "Counter =  2900\n"
     ]
    }
   ],
   "source": [
    "# For a given sample, convert 360 x 41 x 41 matrix into 27 channels x num_bins x 12 months matrix of count values\n",
    "#  and standardize per channel\n",
    "\n",
    "trng_sample_names = trng_data_annot['Field_ID'].values\n",
    "num_trng_samples = len(trng_sample_names)\n",
    "\n",
    "for sample_counter in range(num_trng_samples):\n",
    "# for sample_counter in range(2):\n",
    "    \n",
    "    if sample_counter%100 == 0:\n",
    "        print('Counter = ', sample_counter)\n",
    "    \n",
    "    current_sample = trng_sample_names[sample_counter]\n",
    "    \n",
    "    # Estimate the 3-d matrix\n",
    "    current_matrix = generate_3d_matrix(channel_set, idx_per_channel, channel_bins, trng_dir.format(current_sample))\n",
    "    np.save(trng_dir.format(current_sample + '_Rev'), current_matrix, False)"
   ]
  },
  {
   "cell_type": "code",
   "execution_count": 26,
   "metadata": {},
   "outputs": [
    {
     "data": {
      "text/plain": [
       "(27, 20, 12)"
      ]
     },
     "execution_count": 26,
     "metadata": {},
     "output_type": "execute_result"
    }
   ],
   "source": [
    "# Load an example data set\n",
    "temp_array_rev = np.load(trng_dir.format(random_sample.values[0] + '_Rev'))\n",
    "temp_array_rev.shape"
   ]
  },
  {
   "cell_type": "code",
   "execution_count": 27,
   "metadata": {},
   "outputs": [
    {
     "data": {
      "text/plain": [
       "1.0"
      ]
     },
     "execution_count": 27,
     "metadata": {},
     "output_type": "execute_result"
    }
   ],
   "source": [
    "temp_array_rev[0].sum()"
   ]
  },
  {
   "cell_type": "markdown",
   "metadata": {},
   "source": [
    "### Preprocess the samples in the Test Data Set"
   ]
  },
  {
   "cell_type": "code",
   "execution_count": 28,
   "metadata": {},
   "outputs": [
    {
     "data": {
      "text/plain": [
       "1055"
      ]
     },
     "execution_count": 28,
     "metadata": {},
     "output_type": "execute_result"
    }
   ],
   "source": [
    "test_samples = os.listdir('C:/Work/Vivek_Work/Challenge_Data_Sets/Zindi/CGIAR/image_arrays_test/')\n",
    "len(test_samples)"
   ]
  },
  {
   "cell_type": "code",
   "execution_count": 29,
   "metadata": {},
   "outputs": [],
   "source": [
    "test_sample_names = [re.sub('.npy', '', current_test_sample) for current_test_sample in test_samples]"
   ]
  },
  {
   "cell_type": "code",
   "execution_count": 30,
   "metadata": {},
   "outputs": [
    {
     "data": {
      "text/plain": [
       "['00PLSKP.npy', '01CNJBI.npy', '02RNO3Z.npy', '04PICIF.npy', '04PWTYK.npy']"
      ]
     },
     "execution_count": 30,
     "metadata": {},
     "output_type": "execute_result"
    }
   ],
   "source": [
    "test_samples[0:5]"
   ]
  },
  {
   "cell_type": "code",
   "execution_count": 31,
   "metadata": {},
   "outputs": [
    {
     "data": {
      "text/plain": [
       "['00PLSKP', '01CNJBI', '02RNO3Z', '04PICIF', '04PWTYK']"
      ]
     },
     "execution_count": 31,
     "metadata": {},
     "output_type": "execute_result"
    }
   ],
   "source": [
    "test_sample_names[0:5]"
   ]
  },
  {
   "cell_type": "code",
   "execution_count": 32,
   "metadata": {},
   "outputs": [
    {
     "name": "stdout",
     "output_type": "stream",
     "text": [
      "Counter =  0\n",
      "Counter =  100\n",
      "Counter =  200\n",
      "Counter =  300\n",
      "Counter =  400\n",
      "Counter =  500\n",
      "Counter =  600\n",
      "Counter =  700\n",
      "Counter =  800\n",
      "Counter =  900\n",
      "Counter =  1000\n"
     ]
    }
   ],
   "source": [
    "num_test_samples = len(test_samples)\n",
    "\n",
    "for sample_counter in range(num_test_samples):\n",
    "    if sample_counter%100 == 0:\n",
    "        print('Counter = ', sample_counter)\n",
    "    \n",
    "    current_sample = test_sample_names[sample_counter]\n",
    "    \n",
    "    # Estimate the 3-d matrix\n",
    "    current_matrix = generate_3d_matrix(channel_set, idx_per_channel, channel_bins, test_dir.format(current_sample))\n",
    "    np.save(test_dir.format(current_sample + '_Rev'), current_matrix, False)"
   ]
  },
  {
   "cell_type": "code",
   "execution_count": 33,
   "metadata": {},
   "outputs": [],
   "source": [
    "# Save test sample names as a csv file\n",
    "# pd.DataFrame(test_sample_names).to_csv('C:/Work/Vivek_Work/Challenge_Data_Sets/Zindi/CGIAR/Test_Samples.csv', header=False\n",
    "#                                           , index=False)"
   ]
  },
  {
   "cell_type": "code",
   "execution_count": 35,
   "metadata": {},
   "outputs": [
    {
     "data": {
      "text/plain": [
       "1055"
      ]
     },
     "execution_count": 35,
     "metadata": {},
     "output_type": "execute_result"
    }
   ],
   "source": [
    "# Check that the field IDs in 'SampleSubmission.csv' are the same as that in test_sample_names\n",
    "test_data_submission = pd.read_csv(in_dir.format('SampleSubmission.csv'))\n",
    "test_data_submission.head()\n",
    "\n",
    "len(set(test_sample_names) & set(test_data_submission['Field_ID']))"
   ]
  },
  {
   "cell_type": "code",
   "execution_count": null,
   "metadata": {},
   "outputs": [],
   "source": []
  }
 ],
 "metadata": {
  "kernelspec": {
   "display_name": "Python 3",
   "language": "python",
   "name": "python3"
  },
  "language_info": {
   "codemirror_mode": {
    "name": "ipython",
    "version": 3
   },
   "file_extension": ".py",
   "mimetype": "text/x-python",
   "name": "python",
   "nbconvert_exporter": "python",
   "pygments_lexer": "ipython3",
   "version": "3.7.3"
  }
 },
 "nbformat": 4,
 "nbformat_minor": 4
}
